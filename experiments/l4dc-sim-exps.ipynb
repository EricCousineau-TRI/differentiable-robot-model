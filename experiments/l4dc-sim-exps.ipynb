{
 "cells": [
  {
   "cell_type": "markdown",
   "metadata": {},
   "source": [
    "# Illustration of experiments\n",
    "These experiments are similar in nature to what we presented in our L4DC paper (results there are averaged across multiple seeds, and collected data in a different manner).\n",
    "We compare a simple MLP to two variations of our differentiable and learnable robot model on simulated data."
   ]
  },
  {
   "cell_type": "code",
   "execution_count": 1,
   "metadata": {},
   "outputs": [
    {
     "name": "stderr",
     "output_type": "stream",
     "text": [
      "/home/eacousineau/proj/tri/repo/externals/sys_id/differentiable-robot-model/.venv/lib/python3.10/site-packages/tqdm/auto.py:21: TqdmWarning: IProgress not found. Please update jupyter and ipywidgets. See https://ipywidgets.readthedocs.io/en/stable/user_install.html\n",
      "  from .autonotebook import tqdm as notebook_tqdm\n"
     ]
    },
    {
     "data": {
      "text/plain": [
       "<torch._C.Generator at 0x7f996374a070>"
      ]
     },
     "execution_count": 1,
     "metadata": {},
     "output_type": "execute_result"
    }
   ],
   "source": [
    "import functools\n",
    "import numpy as np\n",
    "import torch\n",
    "import random\n",
    "import os\n",
    "from tqdm import tqdm\n",
    "\n",
    "from hydra.experimental import compose as hydra_compose\n",
    "from hydra.experimental import initialize_config_dir\n",
    "\n",
    "import diff_robot_data\n",
    "from differentiable_robot_model import DifferentiableRobotModel\n",
    "from differentiable_robot_model.data_utils import generate_sine_motion_inverse_dynamics_data\n",
    "from differentiable_robot_model.rigid_body_params import (\n",
    "    CovParameterized3DInertiaMatrixNet,\n",
    "    PositiveScalar,\n",
    "    UnconstrainedScalar,\n",
    "    UnconstrainedTensor,\n",
    ")\n",
    "from torch.utils.data import DataLoader\n",
    "\n",
    "torch.set_printoptions(precision=3, sci_mode=False)\n",
    "\n",
    "random.seed(0)\n",
    "np.random.seed(1) # seeds the data generation\n",
    "torch.manual_seed(0)"
   ]
  },
  {
   "cell_type": "code",
   "execution_count": 2,
   "metadata": {},
   "outputs": [],
   "source": [
    "# Normalized Mean-Squared Error Loss\n",
    "class NMSELoss(torch.nn.Module):\n",
    "    def __init__(self, var):\n",
    "        super(NMSELoss, self).__init__()\n",
    "        self.var = var\n",
    "    def forward(self, yp, yt):\n",
    "        err = (yp - yt)**2\n",
    "        werr = err/self.var\n",
    "        return werr.mean()\n",
    "\n",
    "# Simple Multi-Layer Perceptron \n",
    "class SimpleMLP(torch.nn.Module):\n",
    "    def __init__(self, in_dim, out_dim):\n",
    "        super(SimpleMLP, self).__init__()\n",
    "        self.in_dim = in_dim\n",
    "        self.out_dim = out_dim\n",
    "        self.layers = torch.nn.Sequential(\n",
    "            torch.nn.Linear(self.in_dim, 250),\n",
    "            torch.nn.ReLU(),\n",
    "            torch.nn.Linear(250, 250),\n",
    "            torch.nn.ReLU(),\n",
    "            torch.nn.Linear(250, 100),\n",
    "            torch.nn.ReLU(),\n",
    "            torch.nn.Linear(100, self.out_dim),\n",
    "        )\n",
    "\n",
    "    def forward(self, q, qd, qdd_des):\n",
    "        x = torch.cat([q, qd, qdd_des], dim=1)\n",
    "        y = self.layers(x)\n",
    "        return y"
   ]
  },
  {
   "cell_type": "markdown",
   "metadata": {},
   "source": [
    "# Loading of Robot Model (kuka iiwa)"
   ]
  },
  {
   "cell_type": "code",
   "execution_count": 3,
   "metadata": {},
   "outputs": [
    {
     "name": "stderr",
     "output_type": "stream",
     "text": [
      "Unknown tag \"material\" in /robot[@name='iiwa7']/link[@name='iiwa_link_0']/collision[1]\n",
      "Unknown tag \"self_collision_checking\" in /robot[@name='iiwa7']/link[@name='iiwa_link_0']\n",
      "Unknown tag \"material\" in /robot[@name='iiwa7']/link[@name='iiwa_link_1']/collision[1]\n",
      "Unknown tag \"material\" in /robot[@name='iiwa7']/link[@name='iiwa_link_2']/collision[1]\n",
      "Unknown tag \"material\" in /robot[@name='iiwa7']/link[@name='iiwa_link_3']/collision[1]\n",
      "Unknown tag \"material\" in /robot[@name='iiwa7']/link[@name='iiwa_link_4']/collision[1]\n",
      "Unknown tag \"material\" in /robot[@name='iiwa7']/link[@name='iiwa_link_5']/collision[1]\n",
      "Unknown tag \"material\" in /robot[@name='iiwa7']/link[@name='iiwa_link_6']/collision[1]\n",
      "Unknown tag \"material\" in /robot[@name='iiwa7']/link[@name='iiwa_link_7']/collision[1]\n",
      "Unknown tag \"hardwareInterface\" in /robot[@name='iiwa7']/transmission[@name='iiwa_tran_1']/actuator[@name='iiwa_motor_1']\n",
      "Unknown tag \"robotNamespace\" in /robot[@name='iiwa7']/transmission[@name='iiwa_tran_1']\n",
      "Unknown tag \"hardwareInterface\" in /robot[@name='iiwa7']/transmission[@name='iiwa_tran_2']/actuator[@name='iiwa_motor_2']\n",
      "Unknown tag \"robotNamespace\" in /robot[@name='iiwa7']/transmission[@name='iiwa_tran_2']\n",
      "Unknown tag \"hardwareInterface\" in /robot[@name='iiwa7']/transmission[@name='iiwa_tran_3']/actuator[@name='iiwa_motor_3']\n",
      "Unknown tag \"robotNamespace\" in /robot[@name='iiwa7']/transmission[@name='iiwa_tran_3']\n",
      "Unknown tag \"hardwareInterface\" in /robot[@name='iiwa7']/transmission[@name='iiwa_tran_4']/actuator[@name='iiwa_motor_4']\n",
      "Unknown tag \"robotNamespace\" in /robot[@name='iiwa7']/transmission[@name='iiwa_tran_4']\n",
      "Unknown tag \"hardwareInterface\" in /robot[@name='iiwa7']/transmission[@name='iiwa_tran_5']/actuator[@name='iiwa_motor_5']\n",
      "Unknown tag \"robotNamespace\" in /robot[@name='iiwa7']/transmission[@name='iiwa_tran_5']\n",
      "Unknown tag \"hardwareInterface\" in /robot[@name='iiwa7']/transmission[@name='iiwa_tran_6']/actuator[@name='iiwa_motor_6']\n",
      "Unknown tag \"robotNamespace\" in /robot[@name='iiwa7']/transmission[@name='iiwa_tran_6']\n",
      "Unknown tag \"hardwareInterface\" in /robot[@name='iiwa7']/transmission[@name='iiwa_tran_7']/actuator[@name='iiwa_motor_7']\n",
      "Unknown tag \"robotNamespace\" in /robot[@name='iiwa7']/transmission[@name='iiwa_tran_7']\n"
     ]
    }
   ],
   "source": [
    "base_path = diff_robot_data.__path__[0]\n",
    "\n",
    "urdf_path = os.path.join(base_path, \"kuka_iiwa/urdf/iiwa7.urdf\")\n",
    "gt_robot_model = DifferentiableRobotModel(urdf_path, name=\"diff_robot_model_gt\")"
   ]
  },
  {
   "cell_type": "code",
   "execution_count": 4,
   "metadata": {},
   "outputs": [
    {
     "name": "stderr",
     "output_type": "stream",
     "text": [
      "Unknown tag \"material\" in /robot[@name='iiwa7']/link[@name='iiwa_link_0']/collision[1]\n",
      "Unknown tag \"self_collision_checking\" in /robot[@name='iiwa7']/link[@name='iiwa_link_0']\n",
      "Unknown tag \"material\" in /robot[@name='iiwa7']/link[@name='iiwa_link_1']/collision[1]\n",
      "Unknown tag \"material\" in /robot[@name='iiwa7']/link[@name='iiwa_link_2']/collision[1]\n",
      "Unknown tag \"material\" in /robot[@name='iiwa7']/link[@name='iiwa_link_3']/collision[1]\n",
      "Unknown tag \"material\" in /robot[@name='iiwa7']/link[@name='iiwa_link_4']/collision[1]\n",
      "Unknown tag \"material\" in /robot[@name='iiwa7']/link[@name='iiwa_link_5']/collision[1]\n",
      "Unknown tag \"material\" in /robot[@name='iiwa7']/link[@name='iiwa_link_6']/collision[1]\n",
      "Unknown tag \"material\" in /robot[@name='iiwa7']/link[@name='iiwa_link_7']/collision[1]\n",
      "Unknown tag \"hardwareInterface\" in /robot[@name='iiwa7']/transmission[@name='iiwa_tran_1']/actuator[@name='iiwa_motor_1']\n",
      "Unknown tag \"robotNamespace\" in /robot[@name='iiwa7']/transmission[@name='iiwa_tran_1']\n",
      "Unknown tag \"hardwareInterface\" in /robot[@name='iiwa7']/transmission[@name='iiwa_tran_2']/actuator[@name='iiwa_motor_2']\n",
      "Unknown tag \"robotNamespace\" in /robot[@name='iiwa7']/transmission[@name='iiwa_tran_2']\n",
      "Unknown tag \"hardwareInterface\" in /robot[@name='iiwa7']/transmission[@name='iiwa_tran_3']/actuator[@name='iiwa_motor_3']\n",
      "Unknown tag \"robotNamespace\" in /robot[@name='iiwa7']/transmission[@name='iiwa_tran_3']\n",
      "Unknown tag \"hardwareInterface\" in /robot[@name='iiwa7']/transmission[@name='iiwa_tran_4']/actuator[@name='iiwa_motor_4']\n",
      "Unknown tag \"robotNamespace\" in /robot[@name='iiwa7']/transmission[@name='iiwa_tran_4']\n",
      "Unknown tag \"hardwareInterface\" in /robot[@name='iiwa7']/transmission[@name='iiwa_tran_5']/actuator[@name='iiwa_motor_5']\n",
      "Unknown tag \"robotNamespace\" in /robot[@name='iiwa7']/transmission[@name='iiwa_tran_5']\n",
      "Unknown tag \"hardwareInterface\" in /robot[@name='iiwa7']/transmission[@name='iiwa_tran_6']/actuator[@name='iiwa_motor_6']\n",
      "Unknown tag \"robotNamespace\" in /robot[@name='iiwa7']/transmission[@name='iiwa_tran_6']\n",
      "Unknown tag \"hardwareInterface\" in /robot[@name='iiwa7']/transmission[@name='iiwa_tran_7']/actuator[@name='iiwa_motor_7']\n",
      "Unknown tag \"robotNamespace\" in /robot[@name='iiwa7']/transmission[@name='iiwa_tran_7']\n",
      "Unknown tag \"material\" in /robot[@name='iiwa7']/link[@name='iiwa_link_0']/collision[1]\n",
      "Unknown tag \"self_collision_checking\" in /robot[@name='iiwa7']/link[@name='iiwa_link_0']\n",
      "Unknown tag \"material\" in /robot[@name='iiwa7']/link[@name='iiwa_link_1']/collision[1]\n",
      "Unknown tag \"material\" in /robot[@name='iiwa7']/link[@name='iiwa_link_2']/collision[1]\n",
      "Unknown tag \"material\" in /robot[@name='iiwa7']/link[@name='iiwa_link_3']/collision[1]\n",
      "Unknown tag \"material\" in /robot[@name='iiwa7']/link[@name='iiwa_link_4']/collision[1]\n",
      "Unknown tag \"material\" in /robot[@name='iiwa7']/link[@name='iiwa_link_5']/collision[1]\n",
      "Unknown tag \"material\" in /robot[@name='iiwa7']/link[@name='iiwa_link_6']/collision[1]\n",
      "Unknown tag \"material\" in /robot[@name='iiwa7']/link[@name='iiwa_link_7']/collision[1]\n",
      "Unknown tag \"hardwareInterface\" in /robot[@name='iiwa7']/transmission[@name='iiwa_tran_1']/actuator[@name='iiwa_motor_1']\n",
      "Unknown tag \"robotNamespace\" in /robot[@name='iiwa7']/transmission[@name='iiwa_tran_1']\n",
      "Unknown tag \"hardwareInterface\" in /robot[@name='iiwa7']/transmission[@name='iiwa_tran_2']/actuator[@name='iiwa_motor_2']\n",
      "Unknown tag \"robotNamespace\" in /robot[@name='iiwa7']/transmission[@name='iiwa_tran_2']\n",
      "Unknown tag \"hardwareInterface\" in /robot[@name='iiwa7']/transmission[@name='iiwa_tran_3']/actuator[@name='iiwa_motor_3']\n",
      "Unknown tag \"robotNamespace\" in /robot[@name='iiwa7']/transmission[@name='iiwa_tran_3']\n",
      "Unknown tag \"hardwareInterface\" in /robot[@name='iiwa7']/transmission[@name='iiwa_tran_4']/actuator[@name='iiwa_motor_4']\n",
      "Unknown tag \"robotNamespace\" in /robot[@name='iiwa7']/transmission[@name='iiwa_tran_4']\n",
      "Unknown tag \"hardwareInterface\" in /robot[@name='iiwa7']/transmission[@name='iiwa_tran_5']/actuator[@name='iiwa_motor_5']\n",
      "Unknown tag \"robotNamespace\" in /robot[@name='iiwa7']/transmission[@name='iiwa_tran_5']\n",
      "Unknown tag \"hardwareInterface\" in /robot[@name='iiwa7']/transmission[@name='iiwa_tran_6']/actuator[@name='iiwa_motor_6']\n",
      "Unknown tag \"robotNamespace\" in /robot[@name='iiwa7']/transmission[@name='iiwa_tran_6']\n",
      "Unknown tag \"hardwareInterface\" in /robot[@name='iiwa7']/transmission[@name='iiwa_tran_7']/actuator[@name='iiwa_motor_7']\n",
      "Unknown tag \"robotNamespace\" in /robot[@name='iiwa7']/transmission[@name='iiwa_tran_7']\n"
     ]
    }
   ],
   "source": [
    "# Set up for learning stuff.\n",
    "learnable_links = [\n",
    "    'iiwa_link_1', 'iiwa_link_2', 'iiwa_link_3', 'iiwa_link_4', 'iiwa_link_5',\n",
    "    'iiwa_link_6', 'iiwa_link_7'\n",
    "]\n",
    "learnable_dynamics_paramertrizations = ['mass', 'inertia_mat']\n",
    "\n",
    "def make_learnable(model, mass_paramertrization, inertia_parametrization):\n",
    "    for link in learnable_links:\n",
    "        model.make_link_param_learnable(\n",
    "            link, \"mass\", mass_paramertrization()\n",
    "        )\n",
    "        model.make_link_param_learnable(\n",
    "            link, \"inertia_mat\", inertia_parametrization()\n",
    "        )\n",
    "\n",
    "learnable_robot_unconstr = DifferentiableRobotModel(\n",
    "    urdf_path, name=\"diffrnea_learnable_dynamics\",\n",
    ")\n",
    "Unconstrained3DInertiaMatrix = functools.partial(\n",
    "    UnconstrainedTensor, dim1=3, dim2=3\n",
    ")\n",
    "make_learnable(\n",
    "    learnable_robot_unconstr,\n",
    "    mass_paramertrization=UnconstrainedScalar,\n",
    "    inertia_parametrization=Unconstrained3DInertiaMatrix,\n",
    ")\n",
    "\n",
    "learnable_robot_constr = DifferentiableRobotModel(\n",
    "    urdf_path, name=\"learnable_dynamics_l4dc_structured\",\n",
    ")\n",
    "make_learnable(\n",
    "    learnable_robot_constr,\n",
    "    mass_paramertrization=PositiveScalar,\n",
    "    inertia_parametrization=CovParameterized3DInertiaMatrixNet,\n",
    ")"
   ]
  },
  {
   "cell_type": "markdown",
   "metadata": {},
   "source": [
    "# Training\n",
    "2 training routines for training the robot model, and for training a MLP"
   ]
  },
  {
   "cell_type": "code",
   "execution_count": 5,
   "metadata": {
    "pycharm": {
     "name": "#%%\n"
    }
   },
   "outputs": [],
   "source": [
    "\n",
    "def train_robot_model(robot_model, train_data, test_data, lr, n_epochs, debug_print=False):\n",
    "    train_loader = DataLoader(dataset=train_data, batch_size=256, shuffle=False)\n",
    "    loss_fn = NMSELoss(train_data.var())\n",
    "    opt = torch.optim.Adam(robot_model.parameters(), lr=1e-2)\n",
    "    train_loss = []\n",
    "    test_loss= []\n",
    "    for i in range(50):\n",
    "        losses = []\n",
    "        for batch_idx, batch_data in enumerate(tqdm(train_loader)):\n",
    "            q, qd, qdd_des, tau = batch_data\n",
    "            opt.zero_grad()\n",
    "            tau_pred = robot_model.compute_inverse_dynamics(q, qd, qdd_des)\n",
    "            loss = loss_fn(tau_pred, tau)\n",
    "            loss.backward()\n",
    "            opt.step()\n",
    "            losses.append(loss.item())\n",
    "            \n",
    "        train_loss.append(np.mean(losses))\n",
    "        if debug_print:\n",
    "            print(\"epoch: {}, loss: {}\".format(i, train_loss[-1]))\n",
    "        # test\n",
    "        test_q, test_qd, test_qdd_des, test_tau = test_data.data['q'], test_data.data['qd'], test_data.data['qdd_des'], test_data.data['tau']\n",
    "        test_tau_pred = robot_model.compute_inverse_dynamics(test_q, test_qd, test_qdd_des)\n",
    "        test_loss.append(loss_fn(test_tau_pred, test_tau).item())\n",
    "    return train_loss, test_loss\n",
    "\n",
    "def train_mlp(model, train_data, test_data, lr, n_epochs, debug_print=False):\n",
    "    train_loader = DataLoader(dataset=train_data, batch_size=256, shuffle=False)\n",
    "    loss_fn = NMSELoss(train_data.var())\n",
    "    opt = torch.optim.Adam(model.parameters(), lr=lr)\n",
    "    train_loss = []\n",
    "    test_loss= []\n",
    "    for i in range(n_epochs):\n",
    "        losses = []\n",
    "        for batch_idx, batch_data in enumerate(tqdm(train_loader)):\n",
    "            q, qd, qdd_des, tau = batch_data\n",
    "            opt.zero_grad()\n",
    "            tau_pred = model(q, qd, qdd_des)\n",
    "            loss = loss_fn(tau_pred, tau)\n",
    "            loss.backward()\n",
    "            opt.step()\n",
    "            losses.append(loss.item())\n",
    "            \n",
    "        train_loss.append(np.mean(losses))\n",
    "        if debug_print:\n",
    "            print(\"epoch: {}, loss: {}\".format(i, train_loss[-1]))\n",
    "        # test\n",
    "        test_q, test_qd, test_qdd_des, test_tau = test_data.data['q'], test_data.data['qd'], test_data.data['qdd_des'], test_data.data['tau']\n",
    "        test_tau_pred = model(test_q, test_qd, test_qdd_des)\n",
    "        test_loss.append(loss_fn(test_tau_pred, test_tau).item())\n",
    "    return train_loss, test_loss\n"
   ]
  },
  {
   "cell_type": "markdown",
   "metadata": {},
   "source": [
    "# Data Generation\n",
    "we use the ground truth robot model to generate training and test data. Here we generate data along a trajectory (sine motion trajectory) - which is how we would typically collect data on a real robot."
   ]
  },
  {
   "cell_type": "code",
   "execution_count": 6,
   "metadata": {
    "pycharm": {
     "name": "#%%\n"
    }
   },
   "outputs": [],
   "source": [
    "train_data = generate_sine_motion_inverse_dynamics_data(gt_robot_model, n_data=10000, dt=1.0/250.0, freq=0.1)\n",
    "test_data = generate_sine_motion_inverse_dynamics_data(gt_robot_model, n_data=10000, dt=1.0/250.0, freq=0.2)"
   ]
  },
  {
   "cell_type": "markdown",
   "metadata": {},
   "source": [
    "# Training\n",
    "We now train all 3 models (MLP, robot model without physical constraints and robot model with physical constraints)"
   ]
  },
  {
   "cell_type": "code",
   "execution_count": 7,
   "metadata": {},
   "outputs": [
    {
     "name": "stderr",
     "output_type": "stream",
     "text": [
      "100%|██████████| 40/40 [00:00<00:00, 77.53it/s]\n",
      "100%|██████████| 40/40 [00:00<00:00, 82.62it/s]\n",
      "100%|██████████| 40/40 [00:00<00:00, 90.28it/s]\n",
      "100%|██████████| 40/40 [00:00<00:00, 93.36it/s]\n",
      "100%|██████████| 40/40 [00:00<00:00, 94.64it/s]\n",
      "100%|██████████| 40/40 [00:00<00:00, 95.22it/s]\n",
      "100%|██████████| 40/40 [00:00<00:00, 82.81it/s]\n",
      "100%|██████████| 40/40 [00:00<00:00, 87.94it/s]\n",
      "100%|██████████| 40/40 [00:00<00:00, 90.19it/s]\n",
      "100%|██████████| 40/40 [00:00<00:00, 93.02it/s]\n",
      "100%|██████████| 40/40 [00:00<00:00, 93.52it/s]\n",
      "100%|██████████| 40/40 [00:00<00:00, 89.90it/s]\n",
      "100%|██████████| 40/40 [00:00<00:00, 88.66it/s]\n",
      "100%|██████████| 40/40 [00:00<00:00, 92.69it/s]\n",
      "100%|██████████| 40/40 [00:00<00:00, 90.89it/s]\n",
      "100%|██████████| 40/40 [00:00<00:00, 79.45it/s]\n",
      "100%|██████████| 40/40 [00:00<00:00, 90.87it/s]\n",
      "100%|██████████| 40/40 [00:00<00:00, 91.72it/s]\n",
      "100%|██████████| 40/40 [00:00<00:00, 81.51it/s]\n",
      "100%|██████████| 40/40 [00:00<00:00, 85.39it/s]\n",
      "100%|██████████| 40/40 [00:00<00:00, 74.11it/s]\n",
      "100%|██████████| 40/40 [00:00<00:00, 89.77it/s]\n",
      "100%|██████████| 40/40 [00:00<00:00, 76.26it/s]\n",
      "100%|██████████| 40/40 [00:00<00:00, 87.03it/s]\n",
      "100%|██████████| 40/40 [00:00<00:00, 91.29it/s]\n",
      "100%|██████████| 40/40 [00:00<00:00, 88.11it/s]\n",
      "100%|██████████| 40/40 [00:00<00:00, 89.12it/s]\n",
      "100%|██████████| 40/40 [00:00<00:00, 79.79it/s]\n",
      "100%|██████████| 40/40 [00:00<00:00, 89.73it/s]\n",
      "100%|██████████| 40/40 [00:00<00:00, 74.11it/s]\n",
      "100%|██████████| 40/40 [00:00<00:00, 76.88it/s]\n",
      "100%|██████████| 40/40 [00:00<00:00, 90.36it/s]\n",
      "100%|██████████| 40/40 [00:00<00:00, 82.42it/s]\n",
      "100%|██████████| 40/40 [00:00<00:00, 74.63it/s]\n",
      "100%|██████████| 40/40 [00:00<00:00, 90.50it/s]\n",
      "100%|██████████| 40/40 [00:00<00:00, 93.13it/s]\n",
      "100%|██████████| 40/40 [00:00<00:00, 78.23it/s]\n",
      "100%|██████████| 40/40 [00:00<00:00, 85.73it/s]\n",
      "100%|██████████| 40/40 [00:00<00:00, 88.12it/s]\n",
      "100%|██████████| 40/40 [00:00<00:00, 77.98it/s]\n",
      "100%|██████████| 40/40 [00:00<00:00, 84.67it/s]\n",
      "100%|██████████| 40/40 [00:00<00:00, 77.04it/s]\n",
      "100%|██████████| 40/40 [00:00<00:00, 71.90it/s]\n",
      "100%|██████████| 40/40 [00:00<00:00, 85.19it/s]\n",
      "100%|██████████| 40/40 [00:00<00:00, 80.94it/s]\n",
      "100%|██████████| 40/40 [00:00<00:00, 88.80it/s]\n",
      "100%|██████████| 40/40 [00:00<00:00, 78.08it/s]\n",
      "100%|██████████| 40/40 [00:00<00:00, 72.95it/s]\n",
      "100%|██████████| 40/40 [00:00<00:00, 80.60it/s]\n",
      "100%|██████████| 40/40 [00:00<00:00, 80.62it/s]\n"
     ]
    }
   ],
   "source": [
    "# the mlp seems to train better with lr=1e-3 (while for robot models we use 1e-2)\n",
    "simple_mlp = SimpleMLP(in_dim=21, out_dim=7)\n",
    "train_loss_mlp, test_loss_mlp = train_mlp(simple_mlp, train_data, test_data, lr=1e-3, n_epochs=50)"
   ]
  },
  {
   "cell_type": "code",
   "execution_count": 8,
   "metadata": {},
   "outputs": [
    {
     "name": "stderr",
     "output_type": "stream",
     "text": [
      "100%|██████████| 40/40 [00:03<00:00, 11.36it/s]\n",
      "100%|██████████| 40/40 [00:03<00:00, 10.53it/s]\n",
      "100%|██████████| 40/40 [00:03<00:00, 10.86it/s]\n",
      "100%|██████████| 40/40 [00:03<00:00, 10.39it/s]\n",
      "100%|██████████| 40/40 [00:03<00:00, 10.56it/s]\n",
      "100%|██████████| 40/40 [00:02<00:00, 14.24it/s]\n",
      "100%|██████████| 40/40 [00:02<00:00, 14.44it/s]\n",
      "100%|██████████| 40/40 [00:02<00:00, 14.47it/s]\n",
      "100%|██████████| 40/40 [00:02<00:00, 14.33it/s]\n",
      "100%|██████████| 40/40 [00:02<00:00, 14.01it/s]\n",
      "100%|██████████| 40/40 [00:03<00:00, 12.23it/s]\n",
      "100%|██████████| 40/40 [00:03<00:00, 12.53it/s]\n",
      "100%|██████████| 40/40 [00:02<00:00, 14.32it/s]\n",
      "100%|██████████| 40/40 [00:02<00:00, 14.25it/s]\n",
      "100%|██████████| 40/40 [00:02<00:00, 14.34it/s]\n",
      "100%|██████████| 40/40 [00:02<00:00, 14.49it/s]\n",
      "100%|██████████| 40/40 [00:02<00:00, 14.31it/s]\n",
      "100%|██████████| 40/40 [00:02<00:00, 13.58it/s]\n",
      "100%|██████████| 40/40 [00:03<00:00, 13.15it/s]\n",
      "100%|██████████| 40/40 [00:02<00:00, 14.33it/s]\n",
      "100%|██████████| 40/40 [00:02<00:00, 14.06it/s]\n",
      "100%|██████████| 40/40 [00:03<00:00, 12.66it/s]\n",
      "100%|██████████| 40/40 [00:03<00:00, 11.18it/s]\n",
      "100%|██████████| 40/40 [00:02<00:00, 14.11it/s]\n",
      "100%|██████████| 40/40 [00:02<00:00, 14.28it/s]\n",
      "100%|██████████| 40/40 [00:02<00:00, 14.98it/s]\n",
      "100%|██████████| 40/40 [00:02<00:00, 14.18it/s]\n",
      "100%|██████████| 40/40 [00:02<00:00, 13.76it/s]\n",
      "100%|██████████| 40/40 [00:02<00:00, 14.22it/s]\n",
      "100%|██████████| 40/40 [00:02<00:00, 14.47it/s]\n",
      "100%|██████████| 40/40 [00:02<00:00, 14.50it/s]\n",
      "100%|██████████| 40/40 [00:02<00:00, 14.17it/s]\n",
      "100%|██████████| 40/40 [00:02<00:00, 14.42it/s]\n",
      "100%|██████████| 40/40 [00:02<00:00, 14.45it/s]\n",
      "100%|██████████| 40/40 [00:02<00:00, 14.55it/s]\n",
      "100%|██████████| 40/40 [00:02<00:00, 14.51it/s]\n",
      "100%|██████████| 40/40 [00:02<00:00, 14.51it/s]\n",
      "100%|██████████| 40/40 [00:02<00:00, 14.54it/s]\n",
      "100%|██████████| 40/40 [00:02<00:00, 14.15it/s]\n",
      "100%|██████████| 40/40 [00:02<00:00, 14.59it/s]\n",
      "100%|██████████| 40/40 [00:02<00:00, 14.35it/s]\n",
      "100%|██████████| 40/40 [00:02<00:00, 14.45it/s]\n",
      "100%|██████████| 40/40 [00:02<00:00, 14.29it/s]\n",
      "100%|██████████| 40/40 [00:02<00:00, 14.43it/s]\n",
      "100%|██████████| 40/40 [00:02<00:00, 14.56it/s]\n",
      "100%|██████████| 40/40 [00:02<00:00, 14.53it/s]\n",
      "100%|██████████| 40/40 [00:02<00:00, 14.51it/s]\n",
      "100%|██████████| 40/40 [00:02<00:00, 14.59it/s]\n",
      "100%|██████████| 40/40 [00:02<00:00, 14.73it/s]\n",
      "100%|██████████| 40/40 [00:02<00:00, 14.18it/s]\n"
     ]
    }
   ],
   "source": [
    "train_loss_unconstr, test_loss_unconstr = train_robot_model(learnable_robot_unconstr, train_data, test_data, lr=1e-2, n_epochs=50)"
   ]
  },
  {
   "cell_type": "code",
   "execution_count": 9,
   "metadata": {
    "scrolled": true
   },
   "outputs": [
    {
     "name": "stderr",
     "output_type": "stream",
     "text": [
      "100%|██████████| 40/40 [00:04<00:00,  8.64it/s]\n",
      "100%|██████████| 40/40 [00:03<00:00, 11.03it/s]\n",
      "100%|██████████| 40/40 [00:04<00:00,  9.36it/s]\n",
      "100%|██████████| 40/40 [00:03<00:00, 10.91it/s]\n",
      "100%|██████████| 40/40 [00:03<00:00, 11.11it/s]\n",
      "100%|██████████| 40/40 [00:03<00:00, 11.09it/s]\n",
      "100%|██████████| 40/40 [00:03<00:00, 11.21it/s]\n",
      "100%|██████████| 40/40 [00:03<00:00, 11.11it/s]\n",
      "100%|██████████| 40/40 [00:03<00:00, 11.12it/s]\n",
      "100%|██████████| 40/40 [00:03<00:00, 11.08it/s]\n",
      "100%|██████████| 40/40 [00:03<00:00, 10.86it/s]\n",
      "100%|██████████| 40/40 [00:04<00:00,  9.54it/s]\n",
      "100%|██████████| 40/40 [00:04<00:00,  9.29it/s]\n",
      "100%|██████████| 40/40 [00:04<00:00,  9.47it/s]\n",
      "100%|██████████| 40/40 [00:03<00:00, 10.97it/s]\n",
      "100%|██████████| 40/40 [00:03<00:00, 10.88it/s]\n",
      "100%|██████████| 40/40 [00:03<00:00, 11.26it/s]\n",
      "100%|██████████| 40/40 [00:03<00:00, 11.21it/s]\n",
      "100%|██████████| 40/40 [00:03<00:00, 11.17it/s]\n",
      "100%|██████████| 40/40 [00:03<00:00, 11.14it/s]\n",
      "100%|██████████| 40/40 [00:03<00:00, 11.15it/s]\n",
      "100%|██████████| 40/40 [00:03<00:00, 10.96it/s]\n",
      "100%|██████████| 40/40 [00:03<00:00, 11.14it/s]\n",
      "100%|██████████| 40/40 [00:03<00:00, 11.11it/s]\n",
      "100%|██████████| 40/40 [00:03<00:00, 11.09it/s]\n",
      "100%|██████████| 40/40 [00:03<00:00, 11.03it/s]\n",
      "100%|██████████| 40/40 [00:03<00:00, 11.21it/s]\n",
      "100%|██████████| 40/40 [00:03<00:00, 11.23it/s]\n",
      "100%|██████████| 40/40 [00:03<00:00, 11.25it/s]\n",
      "100%|██████████| 40/40 [00:03<00:00, 11.24it/s]\n",
      "100%|██████████| 40/40 [00:03<00:00, 11.08it/s]\n",
      "100%|██████████| 40/40 [00:03<00:00, 11.09it/s]\n",
      "100%|██████████| 40/40 [00:03<00:00, 10.88it/s]\n",
      "100%|██████████| 40/40 [00:03<00:00, 11.21it/s]\n",
      "100%|██████████| 40/40 [00:03<00:00, 11.11it/s]\n",
      "100%|██████████| 40/40 [00:03<00:00, 11.09it/s]\n",
      "100%|██████████| 40/40 [00:03<00:00, 10.95it/s]\n",
      "100%|██████████| 40/40 [00:03<00:00, 11.09it/s]\n",
      "100%|██████████| 40/40 [00:03<00:00, 10.86it/s]\n",
      "100%|██████████| 40/40 [00:04<00:00,  8.74it/s]\n",
      "100%|██████████| 40/40 [00:03<00:00, 11.24it/s]\n",
      "100%|██████████| 40/40 [00:03<00:00, 11.07it/s]\n",
      "100%|██████████| 40/40 [00:03<00:00, 11.25it/s]\n",
      "100%|██████████| 40/40 [00:03<00:00, 10.89it/s]\n",
      "100%|██████████| 40/40 [00:03<00:00, 11.25it/s]\n",
      "100%|██████████| 40/40 [00:03<00:00, 11.08it/s]\n",
      "100%|██████████| 40/40 [00:03<00:00, 11.20it/s]\n",
      "100%|██████████| 40/40 [00:03<00:00, 11.04it/s]\n",
      "100%|██████████| 40/40 [00:03<00:00, 11.15it/s]\n",
      "100%|██████████| 40/40 [00:03<00:00, 11.17it/s]\n"
     ]
    }
   ],
   "source": [
    "train_loss_constr, test_loss_constr = train_robot_model(learnable_robot_constr, train_data, test_data, lr=1e-2, n_epochs=50)"
   ]
  },
  {
   "cell_type": "markdown",
   "metadata": {},
   "source": [
    "# Results\n",
    "The learnable (structured) robot models outperform the simple mlp in generalizing to test data. The robot model with physical constraints on the parameters performs best."
   ]
  },
  {
   "cell_type": "code",
   "execution_count": 11,
   "metadata": {
    "pycharm": {
     "name": "#%%\n"
    }
   },
   "outputs": [
    {
     "data": {
      "text/plain": [
       "<matplotlib.legend.Legend at 0x7f97b5365d20>"
      ]
     },
     "execution_count": 11,
     "metadata": {},
     "output_type": "execute_result"
    },
    {
     "data": {
      "image/png": "[encoded data removed]",
      "text/plain": [
       "<Figure size 640x480 with 1 Axes>"
      ]
     },
     "metadata": {},
     "output_type": "display_data"
    }
   ],
   "source": [
    "%matplotlib inline\n",
    "import matplotlib.pyplot as plt\n",
    "\n",
    "plt.semilogy(train_loss_unconstr, color='blue', label='robot model no constr, train')\n",
    "plt.semilogy(test_loss_unconstr, color='blue', linestyle='--', alpha=0.7, label='robot model no constr, test')\n",
    "plt.semilogy(train_loss_constr, color='green', label='robot model constr, train')\n",
    "plt.semilogy(test_loss_constr, color='green', linestyle='--',alpha=0.7, label='robot model constr, test')\n",
    "plt.semilogy(train_loss_mlp, color='orange', label='mlp, train')\n",
    "plt.semilogy(test_loss_mlp, color='orange', linestyle='--',alpha=0.7, label='mlp, test')\n",
    "plt.legend()"
   ]
  },
  {
   "cell_type": "code",
   "execution_count": null,
   "metadata": {},
   "outputs": [],
   "source": []
  }
 ],
 "metadata": {
  "kernelspec": {
   "display_name": "Python 3",
   "language": "python",
   "name": "python3"
  },
  "language_info": {
   "codemirror_mode": {
    "name": "ipython",
    "version": 3
   },
   "file_extension": ".py",
   "mimetype": "text/x-python",
   "name": "python",
   "nbconvert_exporter": "python",
   "pygments_lexer": "ipython3",
   "version": "3.10.6"
  }
 },
 "nbformat": 4,
 "nbformat_minor": 1
}
